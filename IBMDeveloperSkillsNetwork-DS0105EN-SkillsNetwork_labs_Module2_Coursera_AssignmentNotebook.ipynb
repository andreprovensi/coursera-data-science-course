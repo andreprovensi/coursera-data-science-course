{
  "metadata": {
    "language_info": {
      "codemirror_mode": {
        "name": "python",
        "version": 3
      },
      "file_extension": ".py",
      "mimetype": "text/x-python",
      "name": "python",
      "nbconvert_exporter": "python",
      "pygments_lexer": "ipython3",
      "version": "3.8"
    },
    "kernelspec": {
      "name": "python",
      "display_name": "Pyolite",
      "language": "python"
    }
  },
  "nbformat_minor": 4,
  "nbformat": 4,
  "cells": [
    {
      "cell_type": "markdown",
      "source": "# My Jupyter Notebook on IBM Watson Studio",
      "metadata": {}
    },
    {
      "cell_type": "markdown",
      "source": "<h1>Andre Provensi</h1>\n<p>Data Analyst</p>",
      "metadata": {}
    },
    {
      "cell_type": "markdown",
      "source": "<i>I'm interest in data science because I like to use math and statistcs to model problems and find solutions</i>",
      "metadata": {}
    },
    {
      "cell_type": "markdown",
      "source": "<h3>The following code will use numpy to calculate te narual logarithm of a number.</h3>",
      "metadata": {}
    },
    {
      "cell_type": "code",
      "source": "import numpy as np\nlog = np.log(10)\nprint(log)",
      "metadata": {
        "trusted": true
      },
      "execution_count": 2,
      "outputs": [
        {
          "name": "stdout",
          "text": "2.302585092994046\n",
          "output_type": "stream"
        }
      ]
    },
    {
      "cell_type": "markdown",
      "source": "<ul><li>Unordered list item #1</li>\n<li>Unordered list item #2</li>\n</ul>\n\n<table>\n    <tr>\n        <th>Table Head 1</th>\n        <th>Table Head 2</th>\n    </tr>\n    <tr>\n        <td>Line 1 Column 1</td>\n        <td>Line 1 Column 2</td>\n    </tr>\n</table>\n<span>This is notebook is for the <a href=\"https://www.coursera.org/professional-certificates/ibm-data-science\">Coursera Data Science Course</a></span>\n<br>\n<p>It is possible to display text as if it was code in the markdown cells with the \"code\" tag:</p>\n<code>import numpy as np</code>",
      "metadata": {}
    },
    {
      "cell_type": "code",
      "source": "",
      "metadata": {},
      "execution_count": null,
      "outputs": []
    },
    {
      "cell_type": "code",
      "source": "",
      "metadata": {},
      "execution_count": null,
      "outputs": []
    }
  ]
}