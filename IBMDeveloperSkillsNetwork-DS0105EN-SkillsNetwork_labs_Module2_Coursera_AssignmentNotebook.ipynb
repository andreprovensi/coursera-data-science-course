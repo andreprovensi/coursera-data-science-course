{
  "cells": [
    {
      "cell_type": "markdown",
      "metadata": {},
      "source": [
        "# My Jupyter Notebook on IBM Watson Studio"
      ]
    },
    {
      "cell_type": "markdown",
      "metadata": {},
      "source": [
        "<h1>Andre Provensi</h1>\n",
        "<p>Data Analyst</p>"
      ]
    },
    {
      "cell_type": "markdown",
      "metadata": {},
      "source": [
        "<i>I'm interest in data science because I like to use math and statistcs to model problems and find solutions</i>"
      ]
    },
    {
      "cell_type": "markdown",
      "metadata": {},
      "source": [
        "<h3>The following code will use numpy to calculate te narual logarithm of a number.</h3>"
      ]
    },
    {
      "cell_type": "code",
      "execution_count": 2,
      "metadata": {
        "trusted": true
      },
      "outputs": [
        {
          "name": "stdout",
          "output_type": "stream",
          "text": [
            "2.302585092994046\n"
          ]
        }
      ],
      "source": [
        "import numpy as np\n",
        "log = np.log(10)\n",
        "print(log)"
      ]
    },
    {
      "attachments": {},
      "cell_type": "markdown",
      "metadata": {},
      "source": [
        "<ul><li>Unordered list item #1</li>\n",
        "<li>Unordered list item #2</li>\n",
        "</ul>\n",
        "<ol>\n",
        "<li>Ordered List Item #1</li>\n",
        "<li>Ordered List Item #2</li>\n",
        "</ol>\n",
        "\n",
        "<table>\n",
        "    <tr>\n",
        "        <th>Table Head 1</th>\n",
        "        <th>Table Head 2</th>\n",
        "    </tr>\n",
        "    <tr>\n",
        "        <td>Line 1 Column 1</td>\n",
        "        <td>Line 1 Column 2</td>\n",
        "    </tr>\n",
        "</table>\n",
        "<span>This is notebook is for the Coursera Data Science Course. You can check the course clickin <a href=\"https://www.coursera.org/professional-certificates/ibm-data-science\">here</a></span>\n",
        "<br>\n",
        "<p>It is possible to display text as if it was code in the markdown cells with the \"code\" tag:</p>\n",
        "<code>import numpy as np</code>\n",
        "<p>If the code is wrong, you can <s>linethrough it<s/></p>"
      ]
    },
    {
      "attachments": {},
      "cell_type": "markdown",
      "metadata": {},
      "source": [
        "<h1>I was not able to post this notebook in Watson Studio because the coursera code for the free trial is not working. So I posted it in my github :)</h1>"
      ]
    },
    {
      "cell_type": "markdown",
      "metadata": {},
      "source": []
    }
  ],
  "metadata": {
    "kernelspec": {
      "display_name": ".venv",
      "language": "python",
      "name": "python3"
    },
    "language_info": {
      "codemirror_mode": {
        "name": "python",
        "version": 3
      },
      "file_extension": ".py",
      "mimetype": "text/x-python",
      "name": "python",
      "nbconvert_exporter": "python",
      "pygments_lexer": "ipython3",
      "version": "3.11.1"
    },
    "vscode": {
      "interpreter": {
        "hash": "bdf2dd9d39d10339b9a69fbc71038be56bc1fa7ec145fcdbe6c853f043e1b500"
      }
    }
  },
  "nbformat": 4,
  "nbformat_minor": 4
}
